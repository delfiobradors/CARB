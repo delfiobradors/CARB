{
 "cells": [
  {
   "cell_type": "code",
   "execution_count": 5,
   "metadata": {
    "collapsed": false
   },
   "outputs": [
    {
     "data": {
      "text/html": [
       "<div style=\"max-height:1000px;max-width:1500px;overflow:auto;\">\n",
       "<table border=\"1\" class=\"dataframe\">\n",
       "  <thead>\n",
       "    <tr style=\"text-align: right;\">\n",
       "      <th></th>\n",
       "      <th>comments</th>\n",
       "      <th>times</th>\n",
       "    </tr>\n",
       "  </thead>\n",
       "  <tbody>\n",
       "    <tr>\n",
       "      <th>0</th>\n",
       "      <td>     Second Half ends, Barcelona 2, Real Madrid 1.</td>\n",
       "      <td> 90'</td>\n",
       "    </tr>\n",
       "    <tr>\n",
       "      <th>1</th>\n",
       "      <td>     Corner,  Real Madrid. Conceded by Dani Alves.</td>\n",
       "      <td> 89'</td>\n",
       "    </tr>\n",
       "    <tr>\n",
       "      <th>2</th>\n",
       "      <td> Substitution, Real Madrid. Lucas Silva replace...</td>\n",
       "      <td> 88'</td>\n",
       "    </tr>\n",
       "    <tr>\n",
       "      <th>3</th>\n",
       "      <td>   Corner,  Real Madrid. Conceded by Gerard Piqué.</td>\n",
       "      <td> 88'</td>\n",
       "    </tr>\n",
       "    <tr>\n",
       "      <th>4</th>\n",
       "      <td> Attempt saved. Lionel Messi (Barcelona) left f...</td>\n",
       "      <td> 87'</td>\n",
       "    </tr>\n",
       "    <tr>\n",
       "      <th>5</th>\n",
       "      <td> Attempt missed. Luis Suárez (Barcelona) right ...</td>\n",
       "      <td> 86'</td>\n",
       "    </tr>\n",
       "    <tr>\n",
       "      <th>6</th>\n",
       "      <td>    Corner,  Barcelona. Conceded by Iker Casillas.</td>\n",
       "      <td> 86'</td>\n",
       "    </tr>\n",
       "    <tr>\n",
       "      <th>7</th>\n",
       "      <td> Attempt saved. Jordi Alba (Barcelona) left foo...</td>\n",
       "      <td> 86'</td>\n",
       "    </tr>\n",
       "    <tr>\n",
       "      <th>8</th>\n",
       "      <td> Rafinha (Barcelona) wins a free kick in the de...</td>\n",
       "      <td> 85'</td>\n",
       "    </tr>\n",
       "    <tr>\n",
       "      <th>9</th>\n",
       "      <td>            Foul by Daniel Carvajal (Real Madrid).</td>\n",
       "      <td> 85'</td>\n",
       "    </tr>\n",
       "  </tbody>\n",
       "</table>\n",
       "</div>"
      ],
      "text/plain": [
       "                                            comments times\n",
       "0      Second Half ends, Barcelona 2, Real Madrid 1.   90'\n",
       "1      Corner,  Real Madrid. Conceded by Dani Alves.   89'\n",
       "2  Substitution, Real Madrid. Lucas Silva replace...   88'\n",
       "3    Corner,  Real Madrid. Conceded by Gerard Piqué.   88'\n",
       "4  Attempt saved. Lionel Messi (Barcelona) left f...   87'\n",
       "5  Attempt missed. Luis Suárez (Barcelona) right ...   86'\n",
       "6     Corner,  Barcelona. Conceded by Iker Casillas.   86'\n",
       "7  Attempt saved. Jordi Alba (Barcelona) left foo...   86'\n",
       "8  Rafinha (Barcelona) wins a free kick in the de...   85'\n",
       "9             Foul by Daniel Carvajal (Real Madrid).   85'"
      ]
     },
     "execution_count": 5,
     "metadata": {},
     "output_type": "execute_result"
    }
   ],
   "source": [
    "# -*- coding: utf-8 -*-\n",
    "from lxml import html\n",
    "import requests\n",
    "import pandas as pd\n",
    "import numpy as np\n",
    "import time\n",
    "\n",
    "#extract times and comments for any given match\n",
    "def extract_commentary_ESPN(id):\n",
    "    id=str(id)\n",
    "    page = requests.get('http://www.espnfc.com/commentary/'+id+'/commentary.html')\n",
    "    tree = html.fromstring(page.text)\n",
    "    times = tree.xpath('//div[@class=\"timestamp\"]/p/text()')\n",
    "    comments = tree.xpath('//div[@class=\"comment\"]/p/text()')\n",
    "    df = pd.DataFrame({'times':times, 'comments':comments})\n",
    "    return df\n",
    "\n",
    "#let's test with a random match\n",
    "my_match=extract_commentary_ESPN(402356)\n",
    "my_match.head(10)"
   ]
  },
  {
   "cell_type": "code",
   "execution_count": 6,
   "metadata": {
    "collapsed": false
   },
   "outputs": [
    {
     "data": {
      "text/html": [
       "<div style=\"max-height:1000px;max-width:1500px;overflow:auto;\">\n",
       "<table border=\"1\" class=\"dataframe\">\n",
       "  <thead>\n",
       "    <tr style=\"text-align: right;\">\n",
       "      <th></th>\n",
       "      <th>comments</th>\n",
       "      <th>times</th>\n",
       "    </tr>\n",
       "  </thead>\n",
       "  <tbody>\n",
       "    <tr>\n",
       "      <th>0</th>\n",
       "      <td>     Second Half ends, Barcelona 2, Real Madrid 1.</td>\n",
       "      <td> 90</td>\n",
       "    </tr>\n",
       "    <tr>\n",
       "      <th>1</th>\n",
       "      <td>     Corner,  Real Madrid. Conceded by Dani Alves.</td>\n",
       "      <td> 89</td>\n",
       "    </tr>\n",
       "    <tr>\n",
       "      <th>2</th>\n",
       "      <td> Substitution, Real Madrid. Lucas Silva replace...</td>\n",
       "      <td> 88</td>\n",
       "    </tr>\n",
       "    <tr>\n",
       "      <th>3</th>\n",
       "      <td>   Corner,  Real Madrid. Conceded by Gerard Piqué.</td>\n",
       "      <td> 88</td>\n",
       "    </tr>\n",
       "    <tr>\n",
       "      <th>4</th>\n",
       "      <td> Attempt saved. Lionel Messi (Barcelona) left f...</td>\n",
       "      <td> 87</td>\n",
       "    </tr>\n",
       "    <tr>\n",
       "      <th>5</th>\n",
       "      <td> Attempt missed. Luis Suárez (Barcelona) right ...</td>\n",
       "      <td> 86</td>\n",
       "    </tr>\n",
       "    <tr>\n",
       "      <th>6</th>\n",
       "      <td>    Corner,  Barcelona. Conceded by Iker Casillas.</td>\n",
       "      <td> 86</td>\n",
       "    </tr>\n",
       "    <tr>\n",
       "      <th>7</th>\n",
       "      <td> Attempt saved. Jordi Alba (Barcelona) left foo...</td>\n",
       "      <td> 86</td>\n",
       "    </tr>\n",
       "    <tr>\n",
       "      <th>8</th>\n",
       "      <td> Rafinha (Barcelona) wins a free kick in the de...</td>\n",
       "      <td> 85</td>\n",
       "    </tr>\n",
       "    <tr>\n",
       "      <th>9</th>\n",
       "      <td>            Foul by Daniel Carvajal (Real Madrid).</td>\n",
       "      <td> 85</td>\n",
       "    </tr>\n",
       "  </tbody>\n",
       "</table>\n",
       "</div>"
      ],
      "text/plain": [
       "                                            comments times\n",
       "0      Second Half ends, Barcelona 2, Real Madrid 1.    90\n",
       "1      Corner,  Real Madrid. Conceded by Dani Alves.    89\n",
       "2  Substitution, Real Madrid. Lucas Silva replace...    88\n",
       "3    Corner,  Real Madrid. Conceded by Gerard Piqué.    88\n",
       "4  Attempt saved. Lionel Messi (Barcelona) left f...    87\n",
       "5  Attempt missed. Luis Suárez (Barcelona) right ...    86\n",
       "6     Corner,  Barcelona. Conceded by Iker Casillas.    86\n",
       "7  Attempt saved. Jordi Alba (Barcelona) left foo...    86\n",
       "8  Rafinha (Barcelona) wins a free kick in the de...    85\n",
       "9             Foul by Daniel Carvajal (Real Madrid).    85"
      ]
     },
     "execution_count": 6,
     "metadata": {},
     "output_type": "execute_result"
    }
   ],
   "source": [
    "#remove the last character of \"times\" column\n",
    "def delete_last(a):\n",
    "    return (a[:-1])\n",
    "\n",
    "my_match.times=my_match.times.apply(delete_last)\n",
    "my_match.head(10)"
   ]
  },
  {
   "cell_type": "code",
   "execution_count": 7,
   "metadata": {
    "collapsed": false
   },
   "outputs": [
    {
     "data": {
      "text/html": [
       "<div style=\"max-height:1000px;max-width:1500px;overflow:auto;\">\n",
       "<table border=\"1\" class=\"dataframe\">\n",
       "  <thead>\n",
       "    <tr style=\"text-align: right;\">\n",
       "      <th></th>\n",
       "      <th>comments</th>\n",
       "      <th>times</th>\n",
       "    </tr>\n",
       "  </thead>\n",
       "  <tbody>\n",
       "    <tr>\n",
       "      <th>1  </th>\n",
       "      <td>     Corner,  Real Madrid. Conceded by Dani Alves.</td>\n",
       "      <td> 89</td>\n",
       "    </tr>\n",
       "    <tr>\n",
       "      <th>3  </th>\n",
       "      <td>   Corner,  Real Madrid. Conceded by Gerard Piqué.</td>\n",
       "      <td> 88</td>\n",
       "    </tr>\n",
       "    <tr>\n",
       "      <th>6  </th>\n",
       "      <td>    Corner,  Barcelona. Conceded by Iker Casillas.</td>\n",
       "      <td> 86</td>\n",
       "    </tr>\n",
       "    <tr>\n",
       "      <th>14 </th>\n",
       "      <td>  Corner,  Real Madrid. Conceded by Claudio Bravo.</td>\n",
       "      <td> 78</td>\n",
       "    </tr>\n",
       "    <tr>\n",
       "      <th>48 </th>\n",
       "      <td>   Corner,  Real Madrid. Conceded by Gerard Piqué.</td>\n",
       "      <td> 58</td>\n",
       "    </tr>\n",
       "    <tr>\n",
       "      <th>51 </th>\n",
       "      <td>     Corner,  Barcelona. Conceded by Sergio Ramos.</td>\n",
       "      <td> 53</td>\n",
       "    </tr>\n",
       "    <tr>\n",
       "      <th>52 </th>\n",
       "      <td>     Corner,  Barcelona. Conceded by Sergio Ramos.</td>\n",
       "      <td> 53</td>\n",
       "    </tr>\n",
       "    <tr>\n",
       "      <th>69 </th>\n",
       "      <td>  Corner,  Real Madrid. Conceded by Claudio Bravo.</td>\n",
       "      <td> 43</td>\n",
       "    </tr>\n",
       "    <tr>\n",
       "      <th>73 </th>\n",
       "      <td>   Corner,  Real Madrid. Conceded by Gerard Piqué.</td>\n",
       "      <td> 39</td>\n",
       "    </tr>\n",
       "    <tr>\n",
       "      <th>87 </th>\n",
       "      <td>          Corner,  Barcelona. Conceded by Marcelo.</td>\n",
       "      <td> 31</td>\n",
       "    </tr>\n",
       "    <tr>\n",
       "      <th>88 </th>\n",
       "      <td>       Corner,  Barcelona. Conceded by Toni Kroos.</td>\n",
       "      <td> 30</td>\n",
       "    </tr>\n",
       "    <tr>\n",
       "      <th>94 </th>\n",
       "      <td> Corner,  Real Madrid. Conceded by Jeremy Mathieu.</td>\n",
       "      <td> 27</td>\n",
       "    </tr>\n",
       "    <tr>\n",
       "      <th>95 </th>\n",
       "      <td> Corner,  Real Madrid. Conceded by Jeremy Mathieu.</td>\n",
       "      <td> 26</td>\n",
       "    </tr>\n",
       "    <tr>\n",
       "      <th>98 </th>\n",
       "      <td>      Corner,  Barcelona. Conceded by Gareth Bale.</td>\n",
       "      <td> 23</td>\n",
       "    </tr>\n",
       "    <tr>\n",
       "      <th>110</th>\n",
       "      <td> Corner,  Real Madrid. Conceded by Andrés Iniesta.</td>\n",
       "      <td> 13</td>\n",
       "    </tr>\n",
       "    <tr>\n",
       "      <th>112</th>\n",
       "      <td>     Corner,  Real Madrid. Conceded by Dani Alves.</td>\n",
       "      <td> 12</td>\n",
       "    </tr>\n",
       "    <tr>\n",
       "      <th>118</th>\n",
       "      <td>             Corner,  Barcelona. Conceded by Isco.</td>\n",
       "      <td>  3</td>\n",
       "    </tr>\n",
       "  </tbody>\n",
       "</table>\n",
       "</div>"
      ],
      "text/plain": [
       "                                              comments  times\n",
       "1        Corner,  Real Madrid. Conceded by Dani Alves.     89\n",
       "3      Corner,  Real Madrid. Conceded by Gerard Piqué.     88\n",
       "6       Corner,  Barcelona. Conceded by Iker Casillas.     86\n",
       "14    Corner,  Real Madrid. Conceded by Claudio Bravo.     78\n",
       "48     Corner,  Real Madrid. Conceded by Gerard Piqué.     58\n",
       "51       Corner,  Barcelona. Conceded by Sergio Ramos.     53\n",
       "52       Corner,  Barcelona. Conceded by Sergio Ramos.     53\n",
       "69    Corner,  Real Madrid. Conceded by Claudio Bravo.     43\n",
       "73     Corner,  Real Madrid. Conceded by Gerard Piqué.     39\n",
       "87            Corner,  Barcelona. Conceded by Marcelo.     31\n",
       "88         Corner,  Barcelona. Conceded by Toni Kroos.     30\n",
       "94   Corner,  Real Madrid. Conceded by Jeremy Mathieu.     27\n",
       "95   Corner,  Real Madrid. Conceded by Jeremy Mathieu.     26\n",
       "98        Corner,  Barcelona. Conceded by Gareth Bale.     23\n",
       "110  Corner,  Real Madrid. Conceded by Andrés Iniesta.     13\n",
       "112      Corner,  Real Madrid. Conceded by Dani Alves.     12\n",
       "118              Corner,  Barcelona. Conceded by Isco.      3"
      ]
     },
     "execution_count": 7,
     "metadata": {},
     "output_type": "execute_result"
    }
   ],
   "source": [
    "#Finding corners occurred in the match:\n",
    "\n",
    "#convert times to number, since they are a string\n",
    "my_match.times=my_match.times.convert_objects(convert_numeric=True)\n",
    "#filtering rows where comment string starts with 'Corner'\n",
    "my_match[my_match.comments.str.startswith('Corner')]"
   ]
  },
  {
   "cell_type": "code",
   "execution_count": 8,
   "metadata": {
    "collapsed": false
   },
   "outputs": [
    {
     "data": {
      "text/plain": [
       "3.0"
      ]
     },
     "execution_count": 8,
     "metadata": {},
     "output_type": "execute_result"
    }
   ],
   "source": [
    "#calculate minute of first corner\n",
    "#filtering rows where comment string starts with 'Corner' and returning minimum time\n",
    "np.amin(my_match[my_match.comments.str.startswith('Corner')]).times"
   ]
  },
  {
   "cell_type": "code",
   "execution_count": 10,
   "metadata": {
    "collapsed": false
   },
   "outputs": [],
   "source": [
    "#putting calculation in a function for further use\n",
    "def calculate_minc1(df):\n",
    "    df.times=df.times.apply(delete_last)\n",
    "    #convert times to number, since they are a string\n",
    "    df.times=df.times.convert_objects(convert_numeric=True)\n",
    "    #filtering rows where comment string starts with 'Corner' and returning minimum time\n",
    "    return np.amin(df[df.comments.str.startswith('Corner')]).times"
   ]
  },
  {
   "cell_type": "code",
   "execution_count": 11,
   "metadata": {
    "collapsed": false
   },
   "outputs": [
    {
     "data": {
      "text/plain": [
       "id                                    402356\n",
       "team_home                        [Barcelona]\n",
       "team_away                      [Real Madrid]\n",
       "competition         SPANISH PRIMERA DIVISIÓN\n",
       "corners_home                             [7]\n",
       "corners_away                            [10]\n",
       "date            Sun 22 Mar 2015 20:00:00 GMT\n",
       "dtype: object"
      ]
     },
     "execution_count": 11,
     "metadata": {},
     "output_type": "execute_result"
    }
   ],
   "source": [
    "#Extract Match Statistics: teams, total corners\n",
    "def extract_statistics_ESPN(id):\n",
    "    id=str(id)\n",
    "    page = requests.get('http://www.espnfc.com/gamecast/statistics/id/'+id+'/statistics.html')\n",
    "    tree = html.fromstring(page.text)\n",
    "    team_away = tree.xpath('//div[@class=\"team away\"]/p/a/text()')#visitante\n",
    "    team_home=tree.xpath('//div[@class=\"team home\"]/p/a/text()')#local\n",
    "    script=tree.xpath('//*[@id=\"matchcenter-'+id+'\"]/div[1]/p[1]/span/script/text()')\n",
    "    try:\n",
    "        timestamp = float(script[0][52:65])\n",
    "        fecha=time.strftime(\"%a %d %b %Y %H:%M:%S GMT\", time.gmtime(timestamp / 1000.0))\n",
    "    except:\n",
    "        fecha=\"UNKNOWN\"\n",
    "    competicion = tree.xpath('//div[@class=\"match-details\"]/p[@class=\"floatleft\"]/text()')\n",
    "    try:\n",
    "        competicion= competicion[0].strip()\n",
    "    except:\n",
    "        competicion=\"ERR COMPETICION\"\n",
    "    home_corners = tree.xpath('//td[@id=\"home-corner-kicks\"]/text()')\n",
    "    away_corners = tree.xpath('//td[@id=\"away-corner-kicks\"]/text()')\n",
    "    return pd.Series([id,team_away,team_home,competicion,home_corners,away_corners,fecha],index=['id','team_home','team_away','competition','corners_home','corners_away','date'])\n",
    "\n",
    "extract_statistics_ESPN(402356)"
   ]
  },
  {
   "cell_type": "code",
   "execution_count": 12,
   "metadata": {
    "collapsed": false
   },
   "outputs": [
    {
     "data": {
      "text/plain": [
       "(id                                    402356\n",
       " team_home                        [Barcelona]\n",
       " team_away                      [Real Madrid]\n",
       " competition         SPANISH PRIMERA DIVISIÓN\n",
       " corners_home                             [7]\n",
       " corners_away                            [10]\n",
       " date            Sun 22 Mar 2015 20:00:00 GMT\n",
       " minc1                                      3\n",
       " dtype: object, False)"
      ]
     },
     "execution_count": 12,
     "metadata": {},
     "output_type": "execute_result"
    }
   ],
   "source": [
    "#Put together the extracted info\n",
    "\n",
    "def process_match(id):\n",
    "    my_match=extract_commentary_ESPN(id)\n",
    "    if len(my_match)>1:\n",
    "        processed_match=extract_statistics_ESPN(id)\n",
    "        minc1=pd.Series([calculate_minc1(my_match)],index=['minc1'])\n",
    "        processed_match=processed_match.append(minc1)\n",
    "        bad_match=False\n",
    "    else:\n",
    "        bad_match=True\n",
    "    return processed_match,bad_match\n",
    "process_match(402356)"
   ]
  },
  {
   "cell_type": "code",
   "execution_count": 13,
   "metadata": {
    "collapsed": false
   },
   "outputs": [
    {
     "data": {
      "text/html": [
       "<div style=\"max-height:1000px;max-width:1500px;overflow:auto;\">\n",
       "<table border=\"1\" class=\"dataframe\">\n",
       "  <thead>\n",
       "    <tr style=\"text-align: right;\">\n",
       "      <th></th>\n",
       "      <th>competition</th>\n",
       "      <th>corners_away</th>\n",
       "      <th>corners_home</th>\n",
       "      <th>date</th>\n",
       "      <th>id</th>\n",
       "      <th>minc1</th>\n",
       "      <th>team_away</th>\n",
       "      <th>team_home</th>\n",
       "    </tr>\n",
       "  </thead>\n",
       "  <tbody>\n",
       "    <tr>\n",
       "      <th>0</th>\n",
       "      <td> SPANISH PRIMERA DIVISIÓN</td>\n",
       "      <td>  [4]</td>\n",
       "      <td> [7]</td>\n",
       "      <td> Sat 21 Mar 2015 17:00:00 GMT</td>\n",
       "      <td> 402355</td>\n",
       "      <td>  2</td>\n",
       "      <td>          [Malaga]</td>\n",
       "      <td> [Rayo Vallecano]</td>\n",
       "    </tr>\n",
       "    <tr>\n",
       "      <th>1</th>\n",
       "      <td> SPANISH PRIMERA DIVISIÓN</td>\n",
       "      <td> [10]</td>\n",
       "      <td> [7]</td>\n",
       "      <td> Sun 22 Mar 2015 20:00:00 GMT</td>\n",
       "      <td> 402356</td>\n",
       "      <td>  3</td>\n",
       "      <td>     [Real Madrid]</td>\n",
       "      <td>      [Barcelona]</td>\n",
       "    </tr>\n",
       "    <tr>\n",
       "      <th>2</th>\n",
       "      <td> SPANISH PRIMERA DIVISIÓN</td>\n",
       "      <td>  [2]</td>\n",
       "      <td> [8]</td>\n",
       "      <td> Sun 22 Mar 2015 16:00:00 GMT</td>\n",
       "      <td> 402357</td>\n",
       "      <td> 15</td>\n",
       "      <td>      [Sevilla FC]</td>\n",
       "      <td>     [Villarreal]</td>\n",
       "    </tr>\n",
       "    <tr>\n",
       "      <th>3</th>\n",
       "      <td> SPANISH PRIMERA DIVISIÓN</td>\n",
       "      <td>  [3]</td>\n",
       "      <td> [4]</td>\n",
       "      <td> Fri 20 Mar 2015 19:45:00 GMT</td>\n",
       "      <td> 402358</td>\n",
       "      <td>  7</td>\n",
       "      <td>        [Valencia]</td>\n",
       "      <td>          [Elche]</td>\n",
       "    </tr>\n",
       "    <tr>\n",
       "      <th>4</th>\n",
       "      <td> SPANISH PRIMERA DIVISIÓN</td>\n",
       "      <td>  [5]</td>\n",
       "      <td> [8]</td>\n",
       "      <td> Sat 14 Mar 2015 21:00:00 GMT</td>\n",
       "      <td> 402359</td>\n",
       "      <td>  8</td>\n",
       "      <td> [Athletic Bilbao]</td>\n",
       "      <td>     [Celta Vigo]</td>\n",
       "    </tr>\n",
       "  </tbody>\n",
       "</table>\n",
       "</div>"
      ],
      "text/plain": [
       "                competition corners_away corners_home  \\\n",
       "0  SPANISH PRIMERA DIVISIÓN          [4]          [7]   \n",
       "1  SPANISH PRIMERA DIVISIÓN         [10]          [7]   \n",
       "2  SPANISH PRIMERA DIVISIÓN          [2]          [8]   \n",
       "3  SPANISH PRIMERA DIVISIÓN          [3]          [4]   \n",
       "4  SPANISH PRIMERA DIVISIÓN          [5]          [8]   \n",
       "\n",
       "                           date      id  minc1          team_away  \\\n",
       "0  Sat 21 Mar 2015 17:00:00 GMT  402355      2           [Malaga]   \n",
       "1  Sun 22 Mar 2015 20:00:00 GMT  402356      3      [Real Madrid]   \n",
       "2  Sun 22 Mar 2015 16:00:00 GMT  402357     15       [Sevilla FC]   \n",
       "3  Fri 20 Mar 2015 19:45:00 GMT  402358      7         [Valencia]   \n",
       "4  Sat 14 Mar 2015 21:00:00 GMT  402359      8  [Athletic Bilbao]   \n",
       "\n",
       "          team_home  \n",
       "0  [Rayo Vallecano]  \n",
       "1       [Barcelona]  \n",
       "2      [Villarreal]  \n",
       "3           [Elche]  \n",
       "4      [Celta Vigo]  "
      ]
     },
     "execution_count": 13,
     "metadata": {},
     "output_type": "execute_result"
    }
   ],
   "source": [
    "#We need to extract chunks of matches and put them in a dataframe\n",
    "\n",
    "def analyze_chunk(ids):\n",
    "    partidos_df=pd.DataFrame()\n",
    "    for id in ids:\n",
    "        match_stats,partido_incorrecto=process_match(id)\n",
    "        if partido_incorrecto==False:\n",
    "            partidos_df=partidos_df.append(match_stats,ignore_index=True)\n",
    "    return partidos_df\n",
    "\n",
    "analyze_chunk(range(402355,402360))"
   ]
  },
  {
   "cell_type": "code",
   "execution_count": 18,
   "metadata": {
    "collapsed": false
   },
   "outputs": [
    {
     "name": "stdout",
     "output_type": "stream",
     "text": [
      "EXISTING:\n",
      "0     402400\n",
      "1     402401\n",
      "2     402402\n",
      "3     402403\n",
      "4     402404\n",
      "5     402405\n",
      "6     402406\n",
      "7     402407\n",
      "8     402408\n",
      "9     402409\n",
      "10    402410\n",
      "11    402411\n",
      "12    402412\n",
      "13    402413\n",
      "14    402414\n",
      "15    402415\n",
      "16    402416\n",
      "17    402417\n",
      "18    402418\n",
      "19    402419\n",
      "20    402420\n",
      "21    402421\n",
      "22    402422\n",
      "23    402423\n",
      "24    402424\n",
      "25    402425\n",
      "26    402426\n",
      "27    402427\n",
      "28    402428\n",
      "29    402429\n",
      "30    402430\n",
      "Name: id, dtype: int64\n",
      "MISSING AND TO BE ANALYZED:\n",
      "[402357 402358 402359 402360 402361 402362 402363 402364]\n"
     ]
    }
   ],
   "source": [
    "#We will save time by not extracting info from already-scraped matches\n",
    "def select_ids(id_arange,file):\n",
    "    destination_df=pd.read_csv(file) #read the file\n",
    "    criterion=id_arange.isin(destination_df.id)\n",
    "    return id_arange[-criterion].values\n",
    "\n",
    "corner_file=\"corners_append.csv\"\n",
    "scraped_df=pd.read_csv(corner_file) #read the file\n",
    "print \"EXISTING:\"\n",
    "print scraped_df.id\n",
    "#check what id_matches from the range have already been scraped\n",
    "raw_range=pd.Series(np.arange(402357,402365))\n",
    "analysis_range=select_ids(raw_range,corner_file)\n",
    "print \"MISSING AND TO BE ANALYZED:\"\n",
    "print analysis_range"
   ]
  },
  {
   "cell_type": "code",
   "execution_count": 8,
   "metadata": {
    "collapsed": false
   },
   "outputs": [
    {
     "name": "stdout",
     "output_type": "stream",
     "text": [
      "NOTHING ADDED\n"
     ]
    }
   ],
   "source": [
    "#study and save a range\n",
    "def study_range (id_ini,id_fin,corner_file):\n",
    "    #check what id_matches from the range have already been scraped\n",
    "    raw_range=pd.Series(np.arange(id_ini,id_fin+1))\n",
    "    analysis_range=select_ids(raw_range,corner_file)\n",
    "    #perform scraping of missing id_matches\n",
    "    chunk_df=analyze_chunk(analysis_range)\n",
    "    #append results to file if there are any\n",
    "    try:\n",
    "        select_matches_append(chunk_df,corner_file)\n",
    "    except:\n",
    "        print \"NOTHING ADDED\"\n",
    "study_range(402360,402400,'corners_append.csv')"
   ]
  },
  {
   "cell_type": "code",
   "execution_count": 12,
   "metadata": {
    "collapsed": false
   },
   "outputs": [
    {
     "name": "stdout",
     "output_type": "stream",
     "text": [
      "NOTHING ADDED\n",
      "402400\n",
      "0.000299648443858\n",
      "MINUTOS\n",
      "NOTHING ADDED\n",
      "402450\n",
      "0.000309149424235\n",
      "MINUTOS\n",
      "NOTHING ADDED\n",
      "402500\n",
      "0.000362551212311\n",
      "MINUTOS\n",
      "NOTHING ADDED\n",
      "402550\n",
      "0.000305199623108\n",
      "MINUTOS\n",
      "402600\n",
      "0.0565403461456\n",
      "MINUTOS\n"
     ]
    }
   ],
   "source": [
    "#study in chunks of 50s and calculate time\n",
    "import timeit\n",
    "def study_in_chunks(ini,last,step,file):\n",
    "    for i in range(ini,last+1,step):\n",
    "        start = timeit.default_timer()\n",
    "        study_range(i,i+step,file)\n",
    "        print i\n",
    "        stop = timeit.default_timer()\n",
    "        print (stop - start)/60\n",
    "        print \"MINUTOS\"\n",
    "    \n",
    "study_in_chunks(402400,402600,50,'corners_append.csv')"
   ]
  },
  {
   "cell_type": "code",
   "execution_count": 1,
   "metadata": {
    "collapsed": false
   },
   "outputs": [
    {
     "name": "stdout",
     "output_type": "stream",
     "text": [
      "NOTHING ADDED\n"
     ]
    },
    {
     "data": {
      "text/html": [
       "<div style=\"max-height:1000px;max-width:1500px;overflow:auto;\">\n",
       "<table border=\"1\" class=\"dataframe\">\n",
       "  <thead>\n",
       "    <tr style=\"text-align: right;\">\n",
       "      <th></th>\n",
       "      <th>Unnamed: 0</th>\n",
       "      <th>competition</th>\n",
       "      <th>corners_away</th>\n",
       "      <th>corners_home</th>\n",
       "      <th>date</th>\n",
       "      <th>id</th>\n",
       "      <th>minc1</th>\n",
       "      <th>team_away</th>\n",
       "      <th>team_home</th>\n",
       "    </tr>\n",
       "  </thead>\n",
       "  <tbody>\n",
       "    <tr>\n",
       "      <th>24</th>\n",
       "      <td> 14</td>\n",
       "      <td> SPANISH PRIMERA DIVISIÓN</td>\n",
       "      <td> [2]</td>\n",
       "      <td>  [8]</td>\n",
       "      <td> Sun 01 Feb 2015 18:00:00 GMT</td>\n",
       "      <td> 402424</td>\n",
       "      <td>  3</td>\n",
       "      <td>      [Espanyol]</td>\n",
       "      <td>          [Sevilla FC]</td>\n",
       "    </tr>\n",
       "    <tr>\n",
       "      <th>25</th>\n",
       "      <td> 15</td>\n",
       "      <td> SPANISH PRIMERA DIVISIÓN</td>\n",
       "      <td> [3]</td>\n",
       "      <td>  [6]</td>\n",
       "      <td> Sun 01 Feb 2015 16:00:00 GMT</td>\n",
       "      <td> 402425</td>\n",
       "      <td>  9</td>\n",
       "      <td>        [Getafe]</td>\n",
       "      <td>             [Almeria]</td>\n",
       "    </tr>\n",
       "    <tr>\n",
       "      <th>26</th>\n",
       "      <td> 16</td>\n",
       "      <td> SPANISH PRIMERA DIVISIÓN</td>\n",
       "      <td> [3]</td>\n",
       "      <td> [10]</td>\n",
       "      <td> Sat 31 Jan 2015 15:00:00 GMT</td>\n",
       "      <td> 402426</td>\n",
       "      <td>  1</td>\n",
       "      <td> [Real Sociedad]</td>\n",
       "      <td>         [Real Madrid]</td>\n",
       "    </tr>\n",
       "    <tr>\n",
       "      <th>27</th>\n",
       "      <td> 17</td>\n",
       "      <td> SPANISH PRIMERA DIVISIÓN</td>\n",
       "      <td> [3]</td>\n",
       "      <td>  [5]</td>\n",
       "      <td> Mon 02 Feb 2015 19:45:00 GMT</td>\n",
       "      <td> 402427</td>\n",
       "      <td> 13</td>\n",
       "      <td>      [Valencia]</td>\n",
       "      <td>              [Malaga]</td>\n",
       "    </tr>\n",
       "    <tr>\n",
       "      <th>28</th>\n",
       "      <td> 18</td>\n",
       "      <td> SPANISH PRIMERA DIVISIÓN</td>\n",
       "      <td> [2]</td>\n",
       "      <td>  [8]</td>\n",
       "      <td> Sun 01 Feb 2015 20:00:00 GMT</td>\n",
       "      <td> 402428</td>\n",
       "      <td>  1</td>\n",
       "      <td>    [Villarreal]</td>\n",
       "      <td>           [Barcelona]</td>\n",
       "    </tr>\n",
       "    <tr>\n",
       "      <th>29</th>\n",
       "      <td> 19</td>\n",
       "      <td> SPANISH PRIMERA DIVISIÓN</td>\n",
       "      <td> [7]</td>\n",
       "      <td>  [9]</td>\n",
       "      <td> Sun 25 Jan 2015 18:00:00 GMT</td>\n",
       "      <td> 402429</td>\n",
       "      <td> 17</td>\n",
       "      <td>       [Almeria]</td>\n",
       "      <td>            [Espanyol]</td>\n",
       "    </tr>\n",
       "    <tr>\n",
       "      <th>30</th>\n",
       "      <td> 20</td>\n",
       "      <td> SPANISH PRIMERA DIVISIÓN</td>\n",
       "      <td> [3]</td>\n",
       "      <td>  [2]</td>\n",
       "      <td> Sat 24 Jan 2015 17:00:00 GMT</td>\n",
       "      <td> 402430</td>\n",
       "      <td> 26</td>\n",
       "      <td>     [Barcelona]</td>\n",
       "      <td>               [Elche]</td>\n",
       "    </tr>\n",
       "    <tr>\n",
       "      <th>31</th>\n",
       "      <td>  0</td>\n",
       "      <td> SPANISH PRIMERA DIVISIÓN</td>\n",
       "      <td> [2]</td>\n",
       "      <td>  [6]</td>\n",
       "      <td> Mon 26 Jan 2015 19:45:00 GMT</td>\n",
       "      <td> 402431</td>\n",
       "      <td>  7</td>\n",
       "      <td>    [Celta Vigo]</td>\n",
       "      <td>              [Getafe]</td>\n",
       "    </tr>\n",
       "    <tr>\n",
       "      <th>32</th>\n",
       "      <td>  1</td>\n",
       "      <td> SPANISH PRIMERA DIVISIÓN</td>\n",
       "      <td> [5]</td>\n",
       "      <td>  [9]</td>\n",
       "      <td> Sat 24 Jan 2015 21:00:00 GMT</td>\n",
       "      <td> 402432</td>\n",
       "      <td>  3</td>\n",
       "      <td>         [Eibar]</td>\n",
       "      <td>       [Real Sociedad]</td>\n",
       "    </tr>\n",
       "    <tr>\n",
       "      <th>33</th>\n",
       "      <td>  2</td>\n",
       "      <td> SPANISH PRIMERA DIVISIÓN</td>\n",
       "      <td> [2]</td>\n",
       "      <td>  [7]</td>\n",
       "      <td> Sun 25 Jan 2015 11:00:00 GMT</td>\n",
       "      <td> 402433</td>\n",
       "      <td> 11</td>\n",
       "      <td>       [Granada]</td>\n",
       "      <td> [Deportivo La Coruña]</td>\n",
       "    </tr>\n",
       "  </tbody>\n",
       "</table>\n",
       "</div>"
      ],
      "text/plain": [
       "    Unnamed: 0               competition corners_away corners_home  \\\n",
       "24          14  SPANISH PRIMERA DIVISIÓN          [2]          [8]   \n",
       "25          15  SPANISH PRIMERA DIVISIÓN          [3]          [6]   \n",
       "26          16  SPANISH PRIMERA DIVISIÓN          [3]         [10]   \n",
       "27          17  SPANISH PRIMERA DIVISIÓN          [3]          [5]   \n",
       "28          18  SPANISH PRIMERA DIVISIÓN          [2]          [8]   \n",
       "29          19  SPANISH PRIMERA DIVISIÓN          [7]          [9]   \n",
       "30          20  SPANISH PRIMERA DIVISIÓN          [3]          [2]   \n",
       "31           0  SPANISH PRIMERA DIVISIÓN          [2]          [6]   \n",
       "32           1  SPANISH PRIMERA DIVISIÓN          [5]          [9]   \n",
       "33           2  SPANISH PRIMERA DIVISIÓN          [2]          [7]   \n",
       "\n",
       "                            date      id  minc1        team_away  \\\n",
       "24  Sun 01 Feb 2015 18:00:00 GMT  402424      3       [Espanyol]   \n",
       "25  Sun 01 Feb 2015 16:00:00 GMT  402425      9         [Getafe]   \n",
       "26  Sat 31 Jan 2015 15:00:00 GMT  402426      1  [Real Sociedad]   \n",
       "27  Mon 02 Feb 2015 19:45:00 GMT  402427     13       [Valencia]   \n",
       "28  Sun 01 Feb 2015 20:00:00 GMT  402428      1     [Villarreal]   \n",
       "29  Sun 25 Jan 2015 18:00:00 GMT  402429     17        [Almeria]   \n",
       "30  Sat 24 Jan 2015 17:00:00 GMT  402430     26      [Barcelona]   \n",
       "31  Mon 26 Jan 2015 19:45:00 GMT  402431      7     [Celta Vigo]   \n",
       "32  Sat 24 Jan 2015 21:00:00 GMT  402432      3          [Eibar]   \n",
       "33  Sun 25 Jan 2015 11:00:00 GMT  402433     11        [Granada]   \n",
       "\n",
       "                team_home  \n",
       "24           [Sevilla FC]  \n",
       "25              [Almeria]  \n",
       "26          [Real Madrid]  \n",
       "27               [Malaga]  \n",
       "28            [Barcelona]  \n",
       "29             [Espanyol]  \n",
       "30                [Elche]  \n",
       "31               [Getafe]  \n",
       "32        [Real Sociedad]  \n",
       "33  [Deportivo La Coruña]  "
      ]
     },
     "execution_count": 1,
     "metadata": {},
     "output_type": "execute_result"
    }
   ],
   "source": [
    "# -*- coding: utf-8 -*-\n",
    "from lxml import html\n",
    "import requests\n",
    "import pandas as pd\n",
    "import numpy as np\n",
    "import time\n",
    "import timeit\n",
    "\n",
    "def extract_commentary_ESPN(id):\n",
    "    id=str(id)\n",
    "    page = requests.get('http://www.espnfc.com/commentary/'+id+'/commentary.html')\n",
    "    tree = html.fromstring(page.text)\n",
    "    times = tree.xpath('//div[@class=\"timestamp\"]/p/text()')\n",
    "    comments = tree.xpath('//div[@class=\"comment\"]/p/text()')\n",
    "    df = pd.DataFrame({'times':times, 'comments':comments})\n",
    "    return df\n",
    "\n",
    "#remove the last two characters of \"times\" column\n",
    "def delete_last(a):\n",
    "    return (a[:-1])\n",
    "\n",
    "#calculate minute of first corner\n",
    "def calculate_minc1(df):\n",
    "    #remove the last two characters of \"times\" column\n",
    "    df.times=df.times.apply(delete_last)\n",
    "    #convert times to number, since they are a string\n",
    "    df.times=df.times.convert_objects(convert_numeric=True)\n",
    "    #filtering rows where comment string starts with 'Corner' and returning minimum time\n",
    "    return np.amin(df[df.comments.str.startswith('Corner')]).times\n",
    "\n",
    "#Extract Match Statistics: teams, total corners\n",
    "def extract_statistics_ESPN(id):\n",
    "    id=str(id)\n",
    "    page = requests.get('http://www.espnfc.com/gamecast/statistics/id/'+id+'/statistics.html')\n",
    "    tree = html.fromstring(page.text)\n",
    "    team_away = tree.xpath('//div[@class=\"team away\"]/p/a/text()')#visitante\n",
    "    team_home=tree.xpath('//div[@class=\"team home\"]/p/a/text()')#local\n",
    "    script=tree.xpath('//*[@id=\"matchcenter-'+id+'\"]/div[1]/p[1]/span/script/text()')\n",
    "    try:\n",
    "        timestamp = float(script[0][52:65])\n",
    "        fecha=time.strftime(\"%a %d %b %Y %H:%M:%S GMT\", time.gmtime(timestamp / 1000.0))\n",
    "    except:\n",
    "        fecha=\"UNKNOWN\"\n",
    "    competicion = tree.xpath('//div[@class=\"match-details\"]/p[@class=\"floatleft\"]/text()')\n",
    "    try:\n",
    "        competicion= competicion[0].strip()\n",
    "    except:\n",
    "        competicion=\"ERR COMPETICION\"\n",
    "    home_corners = tree.xpath('//td[@id=\"home-corner-kicks\"]/text()')\n",
    "    away_corners = tree.xpath('//td[@id=\"away-corner-kicks\"]/text()')\n",
    "    return pd.Series([id,team_away,team_home,competicion,home_corners,away_corners,fecha],index=['id','team_home','team_away','competition','corners_home','corners_away','date'])\n",
    "\n",
    "#Put together the extracted info\n",
    "def process_match(id):\n",
    "    global processed_match\n",
    "    global bad_match\n",
    "    my_match=extract_commentary_ESPN(id)\n",
    "    if len(my_match)>1:\n",
    "        processed_match=extract_statistics_ESPN(id)\n",
    "        minc1=pd.Series([calculate_minc1(my_match)],index=['minc1'])\n",
    "        processed_match=processed_match.append(minc1)\n",
    "        bad_match=False\n",
    "    else:\n",
    "        partido_incorrecto=True\n",
    "    return processed_match,bad_match\n",
    "\n",
    "#We need to extract chunks of matches and present them in a dataframe\n",
    "def analyze_chunk(ids):\n",
    "    partidos_df=pd.DataFrame()\n",
    "    for id in ids:\n",
    "        match_stats,partido_incorrecto=process_match(id)\n",
    "        if partido_incorrecto==False:\n",
    "            partidos_df=partidos_df.append(match_stats,ignore_index=True)\n",
    "    return partidos_df\n",
    "\n",
    "#Append results to a csv file\n",
    "def append_to_csv(file,df):\n",
    "    f = open(file, 'a') # Añadir los resultados al archivo de corners\n",
    "    df.to_csv(f,header=False,encoding=\"utf-8\")\n",
    "    f.close()\n",
    "\n",
    "#append only new matches\n",
    "def select_matches_append(obtained_df,file):\n",
    "    destination_df=pd.read_csv(file) #read the file\n",
    "    obtained_df.id=obtained_df.id.convert_objects(convert_numeric=True)\n",
    "    criterion=obtained_df.id.isin(destination_df.id)\n",
    "    append_to_csv(file,obtained_df[-criterion])#inverse, because we want to include what is NOT already in the file\n",
    "\n",
    "#We will save time by not extracting info from already-scraped matches\n",
    "def select_ids(id_arange,file):\n",
    "    destination_df=pd.read_csv(file) #read the file\n",
    "    criterion=id_arange.isin(destination_df.id)\n",
    "    return id_arange[-criterion].values\n",
    "\n",
    "#study and save a range\n",
    "def study_range (id_ini,id_fin,corner_file):\n",
    "    #check what id_matches from the range have already been scraped\n",
    "    raw_range=pd.Series(np.arange(id_ini,id_fin+1))\n",
    "    analysis_range=select_ids(raw_range,corner_file)\n",
    "    #perform scraping of missing id_matches\n",
    "    chunk_df=analyze_chunk(analysis_range)\n",
    "    #append results to file if there are any\n",
    "    try:\n",
    "        select_matches_append(chunk_df,corner_file)\n",
    "    except:\n",
    "        print \"NOTHING ADDED\"\n",
    "\n",
    "#study in chunks of 100s and calculate time    \n",
    "def study_in_chunks(ini,last,step,file)\n",
    "    for i in range(ini,last,step):\n",
    "        start = timeit.default_timer()\n",
    "        study_range(i,i+step,file)\n",
    "        print i\n",
    "        stop = timeit.default_timer()\n",
    "        print (stop - start)/60\n",
    "        print \"MINUTOS\"\n",
    "    \n",
    "study_in_chunks(402400,402600,50,'corners_append.csv')"
   ]
  },
  {
   "cell_type": "code",
   "execution_count": 2,
   "metadata": {
    "collapsed": false
   },
   "outputs": [
    {
     "name": "stdout",
     "output_type": "stream",
     "text": [
      "33 23\n"
     ]
    }
   ],
   "source": [
    "#We want to check for statistical significance\n",
    "\n",
    "corner_file=\"corners_append.csv\"\n",
    "analysis_df=pd.read_csv(corner_file)\n",
    "total_matches=len(analysis_df)-1\n",
    "corner_true=len(analysis_df[analysis_df.minc1<10])\n",
    "print total_matches,corner_true"
   ]
  },
  {
   "cell_type": "code",
   "execution_count": 6,
   "metadata": {
    "collapsed": false
   },
   "outputs": [
    {
     "data": {
      "text/plain": [
       "(3.0167250821467695, 0.08240972920843942)"
      ]
     },
     "execution_count": 6,
     "metadata": {},
     "output_type": "execute_result"
    }
   ],
   "source": [
    "import scipy\n",
    "from scipy import stats\n",
    "import numpy as np\n",
    "\n",
    "expected_odds=1/1.83 #expected 54%\n",
    "expected_true=total_matches*expected_odds\n",
    "\n",
    "observed = np.array([corner_true,total_matches-corner_true])\n",
    "expected = np.array([expected_true,total_matches-expected_true])\n",
    "\n",
    "scipy.stats.chisquare(observed, f_exp=expected)"
   ]
  },
  {
   "cell_type": "code",
   "execution_count": 56,
   "metadata": {
    "collapsed": false
   },
   "outputs": [
    {
     "name": "stdout",
     "output_type": "stream",
     "text": [
      "Expected: 54.6448087432%, Observed: 60.0% on 790 matches\n",
      "Your p-value is 0.00120441672208\n",
      "The p value is the probability that the deviation of the observed from that expected\n",
      "is due to chance alone (no other forces acting)\n"
     ]
    }
   ],
   "source": [
    "def chisquare_on_csv(expected_freq,file):\n",
    "    analysis_df=pd.read_csv(file)\n",
    "    #we drop every match where minc1=NaN\n",
    "    analysis_df=analysis_df.dropna(subset = ['minc1'])\n",
    "    total_matches=len(analysis_df)-1\n",
    "    corner_true=len(analysis_df[analysis_df.minc1<10])\n",
    "    expected_true=total_matches*expected_freq\n",
    "    observed = np.array([corner_true,total_matches-corner_true])\n",
    "    expected = np.array([expected_true,total_matches-expected_true])\n",
    "    chsq,pval= scipy.stats.chisquare(observed,f_exp=expected)\n",
    "    proportion_true=float((corner_true*100)/total_matches)\n",
    "    return str(chsq),str(pval),str(total_matches),str(corner_true),str(proportion_true)\n",
    "    \n",
    "    \n",
    "expected_freq=1/1.83 #expected 54%\n",
    "chsq,pval,total_matches,corner_true,proportion_true=chisquare_on_csv(expected_freq,'corners_append.csv')\n",
    "print \"Expected: \"+str(expected_freq*100)+\"%, Observed: \"+proportion_true+\"% on \"+total_matches+\" matches\"\n",
    "print \"Your p-value is \"+pval\n",
    "print \"The p value is the probability that the deviation of the observed from that expected\"\n",
    "print \"is due to chance alone (no other forces acting)\""
   ]
  },
  {
   "cell_type": "code",
   "execution_count": 28,
   "metadata": {
    "collapsed": false
   },
   "outputs": [
    {
     "name": "stdout",
     "output_type": "stream",
     "text": [
      "4687\n",
      "704\n"
     ]
    },
    {
     "data": {
      "text/plain": [
       "('3916.18602903', '0.0', '4686', '428')"
      ]
     },
     "execution_count": 28,
     "metadata": {},
     "output_type": "execute_result"
    }
   ],
   "source": [
    "#delete brackets\n",
    "def remove_brackets(string):\n",
    "    string2=string.replace(\"[\", \"\")\n",
    "    return string2.replace(\"]\",\"\")\n",
    "\n",
    "\n",
    "analysis_df=pd.read_csv('corners_append.csv')\n",
    "analysis_df.corners_away=analysis_df.corners_away.apply(remove_brackets)\n",
    "analysis_df.corners_home=analysis_df.corners_home.apply(remove_brackets)\n",
    "analysis_df.team_away=analysis_df.team_away.apply(remove_brackets)\n",
    "analysis_df.team_home=analysis_df.team_home.apply(remove_brackets)\n"
   ]
  },
  {
   "cell_type": "code",
   "execution_count": 61,
   "metadata": {
    "collapsed": true
   },
   "outputs": [],
   "source": [
    "corner_file=\"corners_append.csv\"\n",
    "analysis_df=pd.read_csv(corner_file)"
   ]
  },
  {
   "cell_type": "code",
   "execution_count": 146,
   "metadata": {
    "collapsed": false
   },
   "outputs": [
    {
     "name": "stdout",
     "output_type": "stream",
     "text": [
      "2015-02-08\n"
     ]
    }
   ],
   "source": [
    "#pasar fecha a ordinal\n",
    "import time\n",
    "import datetime\n",
    "import numpy as np\n",
    "def convert_to_datetime(date):\n",
    "    string2=(date[4:15])\n",
    "    conv_time=time.strptime(string2,'%d %b %Y')\n",
    "    d=datetime.date(conv_time.tm_year, conv_time.tm_mon, conv_time.tm_mday)\n",
    "    return d\n",
    "string=analysis_df.date[10]\n",
    "d= convert_to_datetime(string)\n",
    "print d"
   ]
  },
  {
   "cell_type": "code",
   "execution_count": 144,
   "metadata": {
    "collapsed": false
   },
   "outputs": [
    {
     "name": "stdout",
     "output_type": "stream",
     "text": [
      "2\n"
     ]
    }
   ],
   "source": [
    "print d.month"
   ]
  },
  {
   "cell_type": "code",
   "execution_count": null,
   "metadata": {
    "collapsed": true
   },
   "outputs": [],
   "source": [
    "#starting machine learning\n",
    "import numpy as np\n",
    "perm = np.random.permutation(y.size)\n",
    "print perm\n",
    "PRC = 0.7\n",
    "split_point = int(np.ceil(y.shape[0]*PRC))"
   ]
  }
 ],
 "metadata": {
  "kernelspec": {
   "display_name": "Python 2",
   "language": "python",
   "name": "python2"
  },
  "language_info": {
   "codemirror_mode": {
    "name": "ipython",
    "version": 2
   },
   "file_extension": ".py",
   "mimetype": "text/x-python",
   "name": "python",
   "nbconvert_exporter": "python",
   "pygments_lexer": "ipython2",
   "version": "2.7.9"
  }
 },
 "nbformat": 4,
 "nbformat_minor": 0
}
