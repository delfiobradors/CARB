{
 "cells": [
  {
   "cell_type": "code",
   "execution_count": null,
   "metadata": {
    "collapsed": false
   },
   "outputs": [],
   "source": [
    "import timeit\n",
    "from lxml import html\n",
    "import requests\n",
    "import pandas as pd\n",
    "import numpy as np\n",
    "start = timeit.default_timer()\n",
    "resultados=pd.DataFrame()\n",
    "for id in range(1, 399999): #recorrer los ids de partido\n",
    "    id=str(id) # convertir id a str para poder concatenar!\n",
    "    page = requests.get('http://www.espnfc.com/commentary/'+id+'/commentary.html')\n",
    "    tree = html.fromstring(page.text)\n",
    "    #listado de minutos\n",
    "    times = tree.xpath('//div[@class=\"timestamp\"]/p/text()')\n",
    "    #de todos los div cuya class=timestamp ponme el texto\n",
    "    #Listado de comments\n",
    "    comments = tree.xpath('//div[@class=\"comment\"]/p/text()')\n",
    "    times=[(s[:-1]) for s in times] #esta linea elimina los dos ultimos caracteres de cada elemento del vector\n",
    "    times2=pd.Series(times)\n",
    "    times2=times2.convert_objects(convert_numeric=True) #tenemos los tiempos convertidos a numeros desde str!\n",
    "    comments2=pd.Series(comments)\n",
    "    corner=comments2.str.startswith('Corner', na=False)#vector true en cada posicion que empieza por \"Corner\"\n",
    "    df = pd.DataFrame({'time':times2, 'corner':corner})\n",
    "    if len(df[(df.corner==True)])!=0:\n",
    "        minc1=np.amin(df[(df.corner==True)]).time #MINUTO DEL PRIMER CORNER!\n",
    "        #print minc1 #si no hay corners ese partido no es correcto\n",
    "        team_away = tree.xpath('//div[@class=\"team away\"]/p/a/text()')\n",
    "        team_home=tree.xpath('//div[@class=\"team home\"]/p/a/text()')\n",
    "        hay_corner=minc1<10 #corner antes del 9?\n",
    "        page = requests.get('http://www.espnfc.com/gamecast/statistics/id/'+id+'/statistics.html')\n",
    "        tree = html.fromstring(page.text)\n",
    "        competicion = tree.xpath('//div[@class=\"match-details\"]/p[@class=\"floatleft\"]/text()')\n",
    "        try:\n",
    "            competicion= competicion[0].strip()\n",
    "        except:\n",
    "            competicion=\"ERR COMPETICION\"\n",
    "        home_corners = tree.xpath('//td[@id=\"home-corner-kicks\"]/text()')\n",
    "        away_corners = tree.xpath('//td[@id=\"away-corner-kicks\"]/text()')\n",
    "        partido=pd.Series([id,str(minc1),str(team_away),str(team_home),str(hay_corner),competicion,home_corners,away_corners])\n",
    "        resultados=resultados.append(partido,ignore_index=True)\n",
    "print resultados\n",
    "#resultados.to_csv(\"corners.csv\",encoding=\"utf-8\")\n",
    "f = open(\"corners.csv\", 'a') # Añadir los resultados al archivo corners.csv\n",
    "resultados.to_csv(f, header = False,encoding=\"utf-8\")\n",
    "f.close()\n",
    "\n",
    "stop = timeit.default_timer()\n",
    "print stop - start "
   ]
  },
  {
   "cell_type": "code",
   "execution_count": null,
   "metadata": {
    "collapsed": true
   },
   "outputs": [],
   "source": []
  }
 ],
 "metadata": {
  "kernelspec": {
   "display_name": "Python 2",
   "language": "python",
   "name": "python2"
  },
  "language_info": {
   "codemirror_mode": {
    "name": "ipython",
    "version": 2
   },
   "file_extension": ".py",
   "mimetype": "text/x-python",
   "name": "python",
   "nbconvert_exporter": "python",
   "pygments_lexer": "ipython2",
   "version": "2.7.9"
  }
 },
 "nbformat": 4,
 "nbformat_minor": 0
}
